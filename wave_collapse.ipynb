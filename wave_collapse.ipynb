{
 "cells": [
  {
   "cell_type": "markdown",
   "id": "4c1fbaaf",
   "metadata": {},
   "source": [
    "## Wave Collapse Simulation\n",
    "    "
   ]
  },
  {
   "cell_type": "code",
   "execution_count": null,
   "id": "4027bd70",
   "metadata": {},
   "outputs": [],
   "source": [
    "# Updating disk so that we capture all angles and positions in order to collapse the superposition.\n",
    "class Disk:\n",
    "    def __init__(self, start, goal):\n",
    "        self.x, self.y = tuple(element + 0.5 for element in start)\n",
    "        self.goal = goal\n",
    "        self.angle = random.uniform(0, 2 * np.pi)\n",
    "        self.path = [(self.x, self.y, self.angle)]\n",
    "        self.eye_memory = {}  # { (x, y): [list of angles over time] }\n",
    "\n",
    "    def move(self, direction):\n",
    "        dx, dy = direction\n",
    "        self.x += dx\n",
    "        self.y += dy\n",
    "        self.angle += random.uniform(-90, 90) * np.pi / 180\n",
    "        pos = (int(self.x), int(self.y))\n",
    "        if pos not in self.eye_memory:\n",
    "            self.eye_memory[pos] = []\n",
    "        self.eye_memory[pos].append(self.angle)\n",
    "        self.path.append((self.x, self.y, self.angle))"
   ]
  },
  {
   "cell_type": "code",
   "execution_count": null,
   "id": "a863e486",
   "metadata": {},
   "outputs": [],
   "source": [
    "# When we select point B2 at point C\n",
    "def collapse_wave_function(disk, target_point):\n",
    "    \"\"\" Retrocausally update eye direction distributions to favor B2 \"\"\"\n",
    "    for (x, y), angles in disk.eye_memory.items():\n",
    "        if len(angles) < 2:\n",
    "            continue\n",
    "\n",
    "        # Current average eye direction at this past point\n",
    "        current_mean = np.mean(angles)\n",
    "\n",
    "        # Vector from this point to B2\n",
    "        dx = target_point[0] + 0.5 - x\n",
    "        dy = target_point[1] + 0.5 - y\n",
    "        desired_angle = np.arctan2(dy, dx)\n",
    "\n",
    "        # Softly adjust all stored angles toward desired_angle\n",
    "        adjusted_angles = []\n",
    "        for a in angles:\n",
    "            delta = desired_angle - a\n",
    "            a_new = a + 0.2 * delta  # 0.2 = retrocausal softness factor\n",
    "            adjusted_angles.append(a_new)\n",
    "\n",
    "        disk.eye_memory[(x, y)] = adjusted_angles"
   ]
  },
  {
   "cell_type": "code",
   "execution_count": null,
   "id": "923b5010",
   "metadata": {},
   "outputs": [],
   "source": [
    "# Visualisation\n",
    "def display_grid_with_wave_collapse(disk, grid):\n",
    "    fig, ax = plt.subplots(figsize=(8, 8))\n",
    "    ax.imshow(grid.grid.T, origin='lower', cmap='gray', alpha=0.5)\n",
    "\n",
    "    for (x, y), angles in disk.eye_memory.items():\n",
    "        mean_angle = np.mean(angles)\n",
    "        disk_patch = Circle((x + 0.5, y + 0.5), radius=DISK_RADIUS, edgecolor='purple', facecolor='blue', lw=1)\n",
    "        ax.add_patch(disk_patch)\n",
    "\n",
    "        line_x = x + 0.5 + (DISK_RADIUS - EYE_LENGTH_NEG) * np.cos(mean_angle)\n",
    "        line_y = y + 0.5 + (DISK_RADIUS - EYE_LENGTH_NEG) * np.sin(mean_angle)\n",
    "        ax.plot([x + 0.5, line_x], [y + 0.5, line_y], color='gold', lw=1)\n",
    "\n",
    "    ax.set_xlim(0, GRID_SIZE)\n",
    "    ax.set_ylim(0, GRID_SIZE)\n",
    "    ax.set_xticks([])\n",
    "    ax.set_yticks([])\n",
    "    ax.set_aspect('equal')\n",
    "    plt.title(\"Collapsed Eye States Favoring B2\")\n",
    "    plt.show()"
   ]
  },
  {
   "cell_type": "code",
   "execution_count": null,
   "id": "170fb2a7",
   "metadata": {},
   "outputs": [],
   "source": [
    "def collapse_wave_function_with_observers(disk, collapse_point, observer_strength=0.3):\n",
    "    \"\"\"\n",
    "    Performs a 'soft' retrocausal adjustment of past eye directions toward the collapse_point.\n",
    "    This simulates the wave-function collapse affecting perception history.\n",
    "    \"\"\"\n",
    "    updated_path = []\n",
    "    for x, y, old_angle in disk.path:\n",
    "        # Direction from (x, y) to collapse_point\n",
    "        target_dx = collapse_point[0] - x\n",
    "        target_dy = collapse_point[1] - y\n",
    "        target_angle = np.arctan2(target_dy, target_dx)\n",
    "        \n",
    "        # Interpolate angle toward the target_angle\n",
    "        delta_angle = (target_angle - old_angle + np.pi) % (2 * np.pi) - np.pi\n",
    "        new_angle = old_angle + observer_strength * delta_angle\n",
    "        \n",
    "        updated_path.append((x, y, new_angle))\n",
    "    \n",
    "    disk.path = updated_path\n",
    "\n",
    "\n",
    "collapse_point = (25, 25)  # ← Your chosen \"B2\" endpoint\n",
    "collapse_wave_function_with_observers(disk, collapse_point, observer_strength=0.3)\n",
    "\n"
   ]
  }
 ],
 "metadata": {
  "kernelspec": {
   "display_name": "Python 3 (ipykernel)",
   "language": "python",
   "name": "python3"
  },
  "language_info": {
   "codemirror_mode": {
    "name": "ipython",
    "version": 3
   },
   "file_extension": ".py",
   "mimetype": "text/x-python",
   "name": "python",
   "nbconvert_exporter": "python",
   "pygments_lexer": "ipython3",
   "version": "3.12.4"
  }
 },
 "nbformat": 4,
 "nbformat_minor": 5
}
